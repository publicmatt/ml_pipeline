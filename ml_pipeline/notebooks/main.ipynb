{
 "cells": [
  {
   "cell_type": "code",
   "execution_count": 2,
   "id": "9f86d9e7-ca94-4dce-b86d-7ddb261f4e25",
   "metadata": {},
   "outputs": [],
   "source": [
    "# Now you can import your package\n",
    "import ml_pipeline"
   ]
  },
  {
   "cell_type": "code",
   "execution_count": 3,
   "id": "6ba8b629-82db-487f-acbf-2ca20feee7e2",
   "metadata": {},
   "outputs": [],
   "source": [
    "from ml_pipeline.data.dataset import MnistDataset"
   ]
  },
  {
   "cell_type": "code",
   "execution_count": 4,
   "id": "8fb6c881-46ba-40e5-b837-c507c5bfae21",
   "metadata": {},
   "outputs": [],
   "source": [
    "from ml_pipeline import config"
   ]
  },
  {
   "cell_type": "code",
   "execution_count": 5,
   "id": "c8ce7920-c056-44ac-93df-b25bae870592",
   "metadata": {},
   "outputs": [
    {
     "data": {
      "text/plain": [
       "<ConfigurationSet: 0x7fcf70fc1a50>"
      ]
     },
     "execution_count": 5,
     "metadata": {},
     "output_type": "execute_result"
    }
   ],
   "source": [
    "config"
   ]
  },
  {
   "cell_type": "code",
   "execution_count": null,
   "id": "83293ef7-37b3-452f-8de5-13bee633d099",
   "metadata": {},
   "outputs": [],
   "source": []
  }
 ],
 "metadata": {
  "kernelspec": {
   "display_name": "Python 3 (ipykernel)",
   "language": "python",
   "name": "python3"
  },
  "language_info": {
   "codemirror_mode": {
    "name": "ipython",
    "version": 3
   },
   "file_extension": ".py",
   "mimetype": "text/x-python",
   "name": "python",
   "nbconvert_exporter": "python",
   "pygments_lexer": "ipython3",
   "version": "3.11.2"
  }
 },
 "nbformat": 4,
 "nbformat_minor": 5
}
